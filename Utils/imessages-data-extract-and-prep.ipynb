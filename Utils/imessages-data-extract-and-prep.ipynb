{
 "cells": [
  {
   "cell_type": "code",
   "execution_count": 1,
   "metadata": {
    "ExecuteTime": {
     "end_time": "2019-03-06T22:43:16.754400",
     "start_time": "2019-03-06T22:43:15.821349"
    },
    "collapsed": true
   },
   "outputs": [],
   "source": [
    "import sqlite3\n",
    "import pandas as pd\n",
    "from datetime import datetime\n",
    "import matplotlib.pyplot as plt\n",
    "plt.style.use('fivethirtyeight')\n",
    "%matplotlib inline"
   ]
  },
  {
   "cell_type": "markdown",
   "metadata": {},
   "source": [
    "## data prep"
   ]
  },
  {
   "cell_type": "code",
   "execution_count": 9,
   "metadata": {
    "ExecuteTime": {
     "end_time": "2019-03-06T22:44:24.132670",
     "start_time": "2019-03-06T22:44:24.123631"
    },
    "scrolled": true
   },
   "outputs": [],
   "source": [
    "# find your chat.db and establish a connection\n",
    "conn = sqlite3.connect('/Users/nuthan/Library/Messages/chat.db')\n",
    "cur = conn.cursor()\n",
    "\n",
    "# query the database to get all the table names\n",
    "cur.execute(\" select name from sqlite_master where type = 'table' \")\n",
    "\n",
    "for name in cur.fetchall():\n",
    "    print(name)"
   ]
  },
  {
   "cell_type": "code",
   "execution_count": 19,
   "metadata": {
    "ExecuteTime": {
     "end_time": "2019-03-06T23:03:14.154377",
     "start_time": "2019-03-06T23:03:09.830011"
    },
    "scrolled": true
   },
   "outputs": [],
   "source": [
    "# create pandas dataframe with all the tables you care about.\n",
    "\n",
    "## Mac OSX versions below High Sierra\n",
    "#messages = pd.read_sql_query('''select *, datetime(date + strftime(\"%s\", \"2001-01-01\") ,\"unixepoch\",\"localtime\")  as date_utc from message''', conn) \n",
    "\n",
    "## High Sierra and above\n",
    "messages = pd.read_sql_query('''select *, datetime(date/1000000000 + strftime(\"%s\", \"2001-01-01\") ,\"unixepoch\",\"localtime\")  as date_utc from message''', conn) \n",
    "\n",
    "handles = pd.read_sql_query(\"select * from handle\", conn)\n",
    "chat_message_joins = pd.read_sql_query(\"select * from chat_message_join\", conn)"
   ]
  },
  {
   "cell_type": "code",
   "execution_count": 20,
   "metadata": {
    "ExecuteTime": {
     "end_time": "2019-03-06T23:03:15.739079",
     "start_time": "2019-03-06T23:03:14.156844"
    },
    "collapsed": true
   },
   "outputs": [],
   "source": [
    "# these fields are only for ease of datetime analysis (e.g., number of messages per month or year)\n",
    "messages['message_date'] = messages['date']\n",
    "messages['timestamp'] = messages['date_utc'].apply(lambda x: pd.Timestamp(x))\n",
    "messages['date'] = messages['timestamp'].apply(lambda x: x.date())\n",
    "messages['month'] = messages['timestamp'].apply(lambda x: int(x.month))\n",
    "messages['year'] = messages['timestamp'].apply(lambda x: int(x.year))\n",
    "\n",
    "\n",
    "# rename the ROWID into message_id, because that's what it is\n",
    "messages.rename(columns={'ROWID' : 'message_id'}, inplace = True)\n",
    "\n",
    "# rename appropriately the handle and apple_id/phone_number as well\n",
    "handles.rename(columns={'id' : 'phone_number', 'ROWID': 'handle_id'}, inplace = True)"
   ]
  },
  {
   "cell_type": "code",
   "execution_count": 21,
   "metadata": {
    "ExecuteTime": {
     "end_time": "2019-03-06T23:03:19.054286",
     "start_time": "2019-03-06T23:03:18.926128"
    }
   },
   "outputs": [
    {
     "name": "stdout",
     "output_type": "stream",
     "text": [
      "94151\n"
     ]
    }
   ],
   "source": [
    "# merge the messages with the handles\n",
    "merge_level_1 = pd.merge(messages[['text', 'handle_id', 'date','message_date' ,'timestamp', 'month','year','is_sent', 'message_id']],  handles[['handle_id', 'phone_number']], on ='handle_id', how='left')\n",
    "\n",
    "# and then that table with the chats\n",
    "df_messages = pd.merge(merge_level_1, chat_message_joins[['chat_id', 'message_id']], on = 'message_id', how='left')\n",
    "\n",
    "\n",
    "print(len(df_messages))\n",
    "#print(df_messages.head())"
   ]
  },
  {
   "cell_type": "code",
   "execution_count": 27,
   "metadata": {
    "collapsed": true
   },
   "outputs": [],
   "source": [
    "# save the combined table for ease of read for future analysis!\n",
    "df_messages.to_csv('./imessages_high_sierra.csv', index = False, encoding='utf-8')"
   ]
  },
  {
   "cell_type": "markdown",
   "metadata": {},
   "source": [
    "## data exploration"
   ]
  },
  {
   "cell_type": "code",
   "execution_count": 22,
   "metadata": {
    "ExecuteTime": {
     "end_time": "2019-03-06T23:18:32.773129",
     "start_time": "2019-03-06T23:18:32.748244"
    }
   },
   "outputs": [
    {
     "data": {
      "text/plain": [
       "(datetime.date(2016, 10, 5), datetime.date(2019, 3, 5))"
      ]
     },
     "execution_count": 22,
     "metadata": {},
     "output_type": "execute_result"
    }
   ],
   "source": [
    "df_messages['date'].min(), df_messages['date'].max()"
   ]
  },
  {
   "cell_type": "code",
   "execution_count": 23,
   "metadata": {
    "ExecuteTime": {
     "end_time": "2019-03-06T23:18:47.374141",
     "start_time": "2019-03-06T23:18:47.037817"
    }
   },
   "outputs": [
    {
     "data": {
      "text/plain": [
       "(array([736238., 736330., 736420., 736511., 736603., 736695., 736785.,\n",
       "        736876., 736968., 737060., 737150.]),\n",
       " <a list of 11 Text xticklabel objects>)"
      ]
     },
     "execution_count": 23,
     "metadata": {},
     "output_type": "execute_result"
    },
    {
     "data": {
      "image/png": "[encoded data removed]",
      "text/plain": [
       "<Figure size 432x288 with 1 Axes>"
      ]
     },
     "metadata": {},
     "output_type": "display_data"
    }
   ],
   "source": [
    "# number of messages per day\n",
    "plt.plot(df_messages.groupby('date').size())\n",
    "plt.xticks(rotation='45')"
   ]
  },
  {
   "cell_type": "code",
   "execution_count": 25,
   "metadata": {
    "ExecuteTime": {
     "end_time": "2019-03-06T23:19:35.965569",
     "start_time": "2019-03-06T23:19:35.963239"
    }
   },
   "outputs": [],
   "source": [
    "# how many messages you have sent versus received\n",
    "df_messages.groupby('is_sent').size()"
   ]
  },
  {
   "cell_type": "code",
   "execution_count": null,
   "metadata": {
    "ExecuteTime": {
     "end_time": "2019-03-05T09:41:22.196261",
     "start_time": "2019-03-05T09:41:22.185180"
    }
   },
   "outputs": [],
   "source": [
    "# number of messages per month and year\n",
    "df_messages.groupby('month').size()\n",
    "df_messages.groupby('year').size()"
   ]
  },
  {
   "cell_type": "markdown",
   "metadata": {},
   "source": [
    "and many many many more!"
   ]
  },
  {
   "cell_type": "code",
   "execution_count": null,
   "metadata": {},
   "outputs": [],
   "source": [
    "# close connections\n",
    "cur.close()\n",
    "conn.close()"
   ]
  }
 ],
 "metadata": {
  "anaconda-cloud": {},
  "kernelspec": {
   "display_name": "Python 3",
   "language": "python",
   "name": "python3"
  },
  "language_info": {
   "codemirror_mode": {
    "name": "ipython",
    "version": 3.0
   },
   "file_extension": ".py",
   "mimetype": "text/x-python",
   "name": "python",
   "nbconvert_exporter": "python",
   "pygments_lexer": "ipython3",
   "version": "3.7.4"
  },
  "toc": {
   "colors": {
    "hover_highlight": "#DAA520",
    "running_highlight": "#FF0000",
    "selected_highlight": "#FFD700"
   },
   "moveMenuLeft": true,
   "nav_menu": {
    "height": "30px",
    "width": "252px"
   },
   "navigate_menu": true,
   "number_sections": true,
   "sideBar": true,
   "threshold": 4.0,
   "toc_cell": false,
   "toc_section_display": "block",
   "toc_window_display": false
  }
 },
 "nbformat": 4,
 "nbformat_minor": 0
}